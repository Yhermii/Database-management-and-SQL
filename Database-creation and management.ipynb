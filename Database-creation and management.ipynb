{
  "nbformat": 4,
  "nbformat_minor": 0,
  "metadata": {
    "colab": {
      "provenance": []
    },
    "kernelspec": {
      "name": "python3",
      "display_name": "Python 3"
    },
    "language_info": {
      "name": "python"
    }
  },
  "cells": [
    {
      "cell_type": "code",
      "execution_count": null,
      "metadata": {
        "id": "QKbeESndZ4Op"
      },
      "outputs": [],
      "source": [
        "import numpy as np\n",
        "import pandas as pd\n",
        "import matplotlib.pyplot as plt"
      ]
    },
    {
      "cell_type": "code",
      "source": [
        "# Number of subscribers\n",
        "num_subs = 1000\n",
        "\n",
        "#import Names : Nominal data\n",
        "full_names = np.loadtxt('/content/drive/MyDrive/names.csv',delimiter=',',dtype=str)\n",
        "print(full_names)"
      ],
      "metadata": {
        "colab": {
          "base_uri": "https://localhost:8080/"
        },
        "id": "3zhVR-APPjAp",
        "outputId": "b5b8bf67-7362-4815-9241-283041b25aa1"
      },
      "execution_count": null,
      "outputs": [
        {
          "output_type": "stream",
          "name": "stdout",
          "text": [
            "['Maurice Mitchell' 'Sonja Williamson' 'Frank Haynes' 'Amanda Watson'\n",
            " 'Patti Reid' 'Lillie Owen' 'Maria Berry' 'Krista Schwartz'\n",
            " 'Rebecca Flowers' 'Christopher Gonzalez' 'Willie Gross' 'Beverly Lambert'\n",
            " 'Gina Reed' 'Vickie Gray' 'Abel Powell' 'Ron Sullivan' 'Shawna Vargas'\n",
            " 'Leslie Cole' 'Rosalie Morgan' 'Dwight Saunders' 'Brendan Lloyd'\n",
            " 'Lindsay Allen' 'Cynthia Hicks' 'Dewey Mccarthy' 'Jeffery Wilkerson'\n",
            " 'Lydia Mckenzie' 'Lynne Williams' 'Shannon Norton' 'Jim Peters'\n",
            " 'Sabrina Gregory' 'Silvia Chandler' 'Bryant Graves' 'Kim Dennis'\n",
            " 'Tracy Walsh' 'Clay Reyes' 'Darrin Moreno' 'Viola Thompson'\n",
            " 'Nathan Santos' 'Cindy Chambers' 'Richard Hayes' 'Jasmine Drake'\n",
            " 'Elena Love' 'Joy Stevens' 'Damon Cooper' 'Claire Rice' 'Johnny Pope'\n",
            " 'Dustin Knight' 'Guadalupe Potter' 'Hope Reynolds' 'Julia Mcdonald'\n",
            " 'John Buchanan' 'Darla Barker' 'Krystal Jackson' 'Earnest Mccoy'\n",
            " 'Holly Higgins' 'Dan Johnston' 'Lana Christensen' 'Gilberto Palmer'\n",
            " 'Delia Brewer' 'May Bridges' 'Misty Doyle' 'Rosemary Mason'\n",
            " 'Constance Myers' 'Stephanie Curtis' 'Jason Mcguire' 'Leslie Swanson'\n",
            " 'Rogelio Mcdaniel' 'Dennis Glover' 'Antonio Hill' 'Allison Lawson'\n",
            " 'Kevin Robbins' 'Jodi Anderson' 'Erick Perez' 'Julian Rowe'\n",
            " 'Emilio Snyder' 'Sheri Evans' 'Catherine Morton' 'Julio Brooks'\n",
            " 'Blanche Spencer' 'Aaron Ruiz' 'Pablo Tyler' 'Laurie Figueroa'\n",
            " 'Hugh Owens' 'Douglas Duncan' 'Jennie Robinson' 'Courtney Marsh'\n",
            " 'Juan Alvarez' 'Allan Maldonado' 'Marcus Rodriquez' 'Walter Moore'\n",
            " 'Jean Benson' 'Hannah Baker' 'Alton May' 'Travis Soto' 'Kent Green'\n",
            " 'Diana Wells' 'Becky Henry' 'Olga Hanson' 'Nora Maxwell' 'Maxine Sharp'\n",
            " 'Darnell Burgess' 'Clifford Ingram' 'Wayne Page' 'Morris Porter'\n",
            " 'Noel Herrera' 'Ana Luna' 'Mario Norman' 'Dallas Powell' 'Diane Stokes'\n",
            " 'Jessie Cooper' 'Leon Collier' 'Frederick Greene' 'Beth Black'\n",
            " 'Nelson Saunders' 'Peggy Hunt' 'Claire Boone' 'Glenn Fowler'\n",
            " 'Matthew Daniels' 'Clyde Garner' 'Seth Robertson' 'Ervin Curry'\n",
            " 'Mattie Moss' 'Chad Garrett' 'Kelli Evans' 'Anne Simon' 'Rudy Bowen'\n",
            " 'Melvin Carson' 'Ted Andrews' 'Wilbert Young' 'Chelsea Norton'\n",
            " 'Marshall Sanders' 'Stacey Newman' 'Rufus Floyd' 'Danielle Roberts'\n",
            " 'Clinton Higgins' 'Moses Carr' 'Pauline Osborne' 'Terrence Chavez'\n",
            " 'Christina Dixon' 'Paul Ballard' 'Deborah Alvarez' 'Wilbur Gordon'\n",
            " 'Bruce Gonzales' 'Lydia Moore' 'Mathew Roy' 'Iris Tucker' 'Lyle Jenkins'\n",
            " 'Kevin Mitchell' 'Cheryl Adams' 'Jeannette Palmer' 'Sherry Roberson'\n",
            " 'Marsha Simmons' 'Allan Spencer' 'Micheal Arnold' 'Alfredo King'\n",
            " 'Ben Flowers' 'Leslie Curtis' 'Clara Jones' 'Frank Anderson'\n",
            " 'Sarah Townsend' 'Drew Sanchez' 'Cindy Sharp' 'Wendell Chandler'\n",
            " 'Andy Reynolds' 'Norman Myers' 'Lee Neal' 'Melba Campbell'\n",
            " 'Guadalupe Thomas' 'Betty Schultz' 'Winifred Massey' 'Joyce Banks'\n",
            " 'Allison Weber' 'Amy Mcdonald' 'Pete Stevens' 'Fannie Richards'\n",
            " 'Lori Davis' 'Janice Moreno' 'Tracey Holloway' 'Roberta Joseph'\n",
            " 'June Berry' 'Alexis Cobb' 'Eileen Chapman' 'Irene Dean'\n",
            " 'Alicia Christensen' 'Bradford Casey' 'Kristy Watts' 'Ronald Kelly'\n",
            " 'Robin Lowe' 'Erin Wright' 'Heather Nguyen' 'Casey Klein'\n",
            " 'Andrea Patrick' 'Noah Beck' 'Christopher Mcbride' 'Grant Figueroa'\n",
            " 'Isaac Coleman' 'Francisco Carter' 'Everett Ford' 'Kerry Harmon'\n",
            " 'Irma Austin' 'Louise Ford' 'Christie Murray' 'Darrell Ferguson'\n",
            " 'Ginger Mccoy' 'Deanna Ross' 'Josephine Hunter' 'Mitchell Holmes'\n",
            " 'Muriel Rios' 'Kristy Bowen' 'Dewey Obrien' 'Sheldon Garrett'\n",
            " 'Tasha Patton' 'Edward Lamb' 'Ralph Washington' 'Darla Estrada'\n",
            " 'Gladys Baldwin' 'Luke Williams' 'Grady Miles' 'Nettie Henry'\n",
            " 'May Benson' 'Everett Reid' 'Ronnie Quinn' 'Mercedes Barber' 'Simon King'\n",
            " 'Alice Cruz' 'Norma Carpenter' 'Terri Patterson' 'Jean Gill'\n",
            " 'Jessie Soto' 'Colin Weaver' 'Carroll Reese' 'Terrence Newman' 'Jack May'\n",
            " 'Laura Spencer' 'Debra Gibbs' 'Jeremy Webb' 'Maria Guzman'\n",
            " 'Devin Carlson' 'Emmett Payne' 'Sharon Townsend' 'Dawn Manning'\n",
            " 'Richard Duncan' 'Billy Ramsey' 'Troy Cannon' 'Stella Simon'\n",
            " 'Mindy Klein' 'Loretta Romero' 'Tracy Perez' 'Ernestine Underwood'\n",
            " 'Christian Franklin' 'Abel Watson' 'Chris Mcdaniel' 'Latoya Cox'\n",
            " 'Carlton Wolfe' 'Orville Floyd' 'Manuel Dixon' 'Mattie Olson'\n",
            " 'Tommie Lyons' 'Gustavo Richardson' 'Justin Poole' 'Lynn George'\n",
            " 'Brad Powell' 'Matthew Arnold' 'Tonya Nelson' 'Karla Greer'\n",
            " 'Lauren Allison' 'Cody Cunningham' 'Tina Salazar' 'Melanie Brown'\n",
            " 'Bennie Brooks' 'Ed Owens' 'Malcolm Owen' 'Felicia Page'\n",
            " 'Yolanda Fletcher' 'Jasmine Diaz' 'Marianne Aguilar' 'Cora Barnes'\n",
            " 'Ella Lee' 'Corey Greene' 'Winston Stewart' 'Hope Rice' 'Minnie Holland'\n",
            " 'Vincent Drake' 'Teresa Mendez' 'Joyce West' 'Sandy Stevens'\n",
            " 'Kristopher Kelley' 'Joanna Mullins' 'Marie Young' 'Scott Lambert'\n",
            " 'Bernice Hudson' 'Elsa Jackson' 'Judith Howard' 'Zachary Paul'\n",
            " 'Mable Mills' 'Allan Horton' 'Dixie Jimenez' 'Amy Pearson'\n",
            " 'Gregg Rodriguez' 'Ryan White' 'Wendy Reeves' 'Carmen Blake'\n",
            " 'Karl Houston' 'Cecelia Woods' 'Santos Bowman' 'Lela Owen'\n",
            " 'Blanche Barnett' 'Douglas Estrada' 'Olivia Ruiz' 'Carl Goodman'\n",
            " 'Nichole Peters' 'Orville Murphy' 'Karen Schwartz' 'Bethany Davidson'\n",
            " 'Roger Armstrong' 'Candice Hamilton' 'Silvia Shelton' 'Hugh Greene'\n",
            " 'Elizabeth Owens' 'Craig Walker' 'Terrell Brewer' 'Opal Wolfe'\n",
            " 'Mable Hart' 'Ismael Newton' 'Lois Lindsey' 'Maxine Newman'\n",
            " 'Mario Montgomery' 'Faye Rivera' 'Earl Gill' 'Byron Haynes'\n",
            " 'Christy Dixon' 'Jason Cannon' 'Kelli Wade' 'Rosalie Phillips'\n",
            " 'Dianna Lane' 'Irene Bennett' 'Laurence Johnston' 'Christian Guerrero'\n",
            " 'Theresa Black' 'Louise Mack' 'Rosa Simmons' 'Mandy Wheeler'\n",
            " 'Everett Hardy' 'Rosie Francis' 'Owen Bates' 'Ada Foster' 'Whitney Banks'\n",
            " 'Bruce Cobb' 'Courtney Mitchell' 'Leah Curry' 'Linda Bell'\n",
            " 'Malcolm Butler' 'Rosemarie Lamb' 'Lonnie Rodriguez' 'Lisa Campbell'\n",
            " 'Faith Warner' 'Melba Patterson' 'Floyd Sims' 'Nicolas Crawford'\n",
            " 'Jon Gross' 'Melvin Mcdaniel' 'Tonya Stevens' 'Ann Reese' 'Stella Lee'\n",
            " 'Jeannette White' 'Jonathon Henry' 'Carla Vasquez' 'Lillian Adams'\n",
            " 'Charlie Jenkins' 'Shirley Townsend' 'Spencer Luna' 'Jeremy Perry'\n",
            " 'Ethel Mendoza' 'Melissa Holt' 'Steven Mcguire' 'Samantha Harvey'\n",
            " 'Kelley Duncan' 'Florence Byrd' 'Jonathan Graham' 'Tommy Castro'\n",
            " 'Donnie Steele' 'Kari Taylor' 'Mabel Bush' 'Tanya Potter'\n",
            " 'Katherine Schultz' 'Ginger Little' 'Doug Marsh' 'Sarah Logan'\n",
            " 'Harry Carter' 'Bob Pena' 'Laura Hale' 'Delores Yates' 'Bobby Hunt'\n",
            " 'Antoinette Gonzales' 'Antonio Robbins' 'Erika Rowe' 'Roland Daniel'\n",
            " 'Jasmine Hampton' 'Sherry Dawson' 'Randal Bowers' 'Robin White'\n",
            " 'Stacey Miller' 'Lora Fernandez' 'Thelma Craig' 'Grady Stevens'\n",
            " 'Helen Banks' 'Cesar Massey' 'Bradford Mcdaniel' 'Amos Garza' 'Clyde Cox'\n",
            " 'Judy Jacobs' 'Caroline Pratt' 'Cecilia Willis' 'Elsie Daniels'\n",
            " 'Cassandra Mckinney' 'Earl Leonard' 'Christie Graves' 'Felipe Mcguire'\n",
            " 'Jesus Lloyd' 'Lloyd Fleming' 'Jessie Richards' 'Gilbert Gonzales'\n",
            " 'Miriam Sutton' 'Oliver Ford' 'Glen Graham' 'Levi Mack' 'Tim Joseph'\n",
            " 'Lewis Drake' 'Tom Lamb' 'Faith Becker' 'Christy Pittman' 'Ruby Morgan'\n",
            " 'Mable Oliver' 'Donna Palmer' 'Raquel Silva' 'Jorge Harvey' 'Erma Moran'\n",
            " 'Lila George' 'Penny Roberson' 'Denise Rhodes' 'Kristopher Price'\n",
            " 'Larry Fisher' 'Leigh Norris' 'Vicki Murphy' 'Sara Curtis' 'Ross Payne'\n",
            " 'Angel Watson' 'Patty Osborne' 'Derrick Ball' 'Steven Parker'\n",
            " 'Jermaine Sims' 'Luz Hunter' 'Darin Houston' 'Bobby Park' 'Kellie Cross'\n",
            " 'Florence Morris' 'Clark Gonzalez' 'Leonard Bryant' 'Erika Scott'\n",
            " 'Angelo Alvarado' 'Kim Saunders' 'Domingo Anderson' 'Janie Allison'\n",
            " 'Gary Miles' 'Evan Thornton' 'Jessie Bowers' 'Adam Walton'\n",
            " 'Julian Austin' 'Joan Conner' 'Becky Hale' 'Dale Figueroa' 'Annie Powers'\n",
            " 'Sadie Gomez' 'Donnie Bass' 'Kate Baldwin' 'Rafael Abbott' 'Alfredo Roy'\n",
            " 'Francisco Lee' 'Leticia Burns' 'Chelsea Ellis' 'Johnathan Parsons'\n",
            " 'Patsy Ortega' 'Adrian Watts' 'Jasmine Ingram' 'Wilma Lindsey'\n",
            " 'Ellis Wood' 'Rachel Burgess' 'Naomi Santos' 'Dorothy Johnston'\n",
            " 'Marcia Moreno' 'Dixie Garrett' 'Melinda Holmes' 'Janis Hicks' 'Joy Love'\n",
            " 'Silvia Ramsey' 'Opal Vasquez' 'Tracey Sherman' 'Kathy Marshall'\n",
            " 'Billie Stewart' 'Jason Johnson' 'Alejandro Wilkins' 'Stewart Quinn'\n",
            " 'Deanna Morrison' 'Chester Fitzgerald' 'Bessie Stone' 'Wade Gregory'\n",
            " 'Joann Hicks' 'Edna Young' 'Noah Brewer' 'Joy Davis' 'Barbara Stokes'\n",
            " 'Simon Drake' 'Hannah Hampton' 'Angie Burton' 'Willis Hunt'\n",
            " 'Beth Barrett' 'Jimmie Bowers' 'Charles Evans' 'Lynn Floyd' 'Kay Todd'\n",
            " 'Suzanne Page' 'Loretta Blair' 'Jeffery Elliott' 'Stuart Byrd'\n",
            " 'Inez Nguyen' 'Tami Chavez' 'Tasha Marshall' 'Terry Tucker'\n",
            " 'Lewis Aguilar' 'Ignacio Park' 'Jana Harrison' 'Israel Willis'\n",
            " 'Tracey Griffin' 'Grant Henderson' 'Arlene Clayton' 'Joe Schwartz'\n",
            " 'Brendan Wade' 'Cassandra Kelly' 'Cora Christensen' 'Harry Stephens'\n",
            " 'Olivia Weaver' 'Percy Doyle' 'Gwendolyn Higgins' 'Lyle Fisher'\n",
            " 'Lora Turner' 'Bill Carter' 'Leslie Carr' 'Amy Sims' 'Oliver Lee'\n",
            " 'Wilma Rodriquez' 'Alfonso Jensen' 'Teri Mccoy' 'Genevieve Morton'\n",
            " 'Mathew Bush' 'Wayne Keller' 'Guy Cunningham' 'Louis Reyes'\n",
            " 'Harold Montgomery' 'Jessica Lynch' 'Juana Spencer' 'Diana Cannon'\n",
            " 'Ben Griffith' 'Lynda Morris' 'Nathan Ramirez' 'Tom Holt'\n",
            " 'Bryant Collins' 'Eugene Rowe' 'Eric Waters' 'Ramon Boyd'\n",
            " 'Marion Coleman' 'Kathleen Rodgers' 'Martha Rogers' 'Sophie Kim'\n",
            " 'Gerald Warner' 'Ricardo Sullivan' 'Violet Wagner' 'Eleanor Sanders'\n",
            " 'Kari Mckinney' 'Leslie Moran' 'Rudy Reeves' 'Rose Hernandez'\n",
            " 'Essie Parker' 'Ann Simon' 'Leona Garcia' 'Sheryl Lopez' 'Agnes Barnett'\n",
            " 'Jason Nunez' 'Ross Greene' 'Blanca Cain' 'Rosemarie Colon'\n",
            " 'Doyle Duncan' 'Josefina Hunter' 'Jordan Lane' 'Colin Parks'\n",
            " 'Warren Gutierrez' 'Cody Baker' 'Dominick Morgan' 'Karla Sandoval'\n",
            " 'Perry French' 'Annette Caldwell' 'Marilyn Roberson' 'Mario Pierce'\n",
            " 'Ricardo Harmon' 'Elsie Griffith' 'Evan Kelley' 'Allen Pope'\n",
            " 'Garrett Benson' 'Megan Wise' 'Joanne Campbell' 'Leon Gutierrez'\n",
            " 'Elias Mccoy' 'Devin Schwartz' 'Morris Parker' 'Sharon Henry'\n",
            " 'Joann Hill' 'Connie Ford' 'Gertrude Greene' 'Margarita Clarke'\n",
            " 'Luke Taylor' 'Rufus Phillips' 'David Day' 'Trevor Lindsey'\n",
            " 'Steve Francis' 'Kayla Figueroa' 'Nicole Peters' 'Krystal Hoffman'\n",
            " 'Yvonne Wilkerson' 'Clay Guzman' 'Larry Mcdonald' 'Inez Romero'\n",
            " 'Myrtle Wade' 'Gladys Jordan' 'Loretta Jimenez' 'Melody Fitzgerald'\n",
            " 'Edward Garrett' 'Shari Bass' 'Gordon Evans' 'Neil Schneider'\n",
            " 'Charlie Holmes' 'Reginald Rowe' 'Perry Howell' 'Jerry Knight'\n",
            " 'Naomi Fields' 'Kathy Mann' 'Jerald Hayes' 'Gerardo Perkins'\n",
            " 'Cesar Cohen' 'Jon Gilbert' 'Ebony Lamb' 'Jessie Jenkins' 'Dean Vargas'\n",
            " 'Christine Cooper' 'Roberto Welch' 'Myra Stanley' 'Elijah Simon'\n",
            " 'Darrel Craig' 'Cassandra Collins' 'Bridget Medina' 'Mabel Mason'\n",
            " 'Gail Lopez' 'Marlene Fox' 'Clinton Mckinney' 'Clarence Parsons'\n",
            " 'Marcos Parks' 'Gilbert Wagner' 'Eduardo Thornton' 'Traci Oliver'\n",
            " 'Jimmy Castro' 'Wilbert Cortez' 'Arturo Stokes' 'Timmy Rhodes'\n",
            " 'Marguerite Hopkins' 'Owen Collier' 'Cathy Carson' 'Erick Byrd'\n",
            " 'Mae Cunningham' 'Bernard Burke' 'Glenn Floyd' 'Jennifer Clayton'\n",
            " 'Diane Reid' 'Claudia Norman' 'Ronnie Graves' 'Brooke Hale' 'Carol Stone'\n",
            " 'Kathryn Hubbard' 'Marco King' 'Billy Long' 'Joseph Marsh'\n",
            " 'Casey Stevenson' 'Rose Soto' 'Gerald Mack' 'Theresa Rice' 'Monica Wood'\n",
            " 'Jody Sandoval' 'Kari Lane' 'Christy Underwood' 'Kerry Washington'\n",
            " 'Kristen Kennedy' 'Jacquelyn May' 'Dennis George' 'Sylvester Terry'\n",
            " 'Barbara Gardner' 'Genevieve Franklin' 'Ada Clarke' 'Emanuel Fisher'\n",
            " 'Teresa Ramsey' 'Regina Flores' 'Miranda Morris' 'Caroline Dean'\n",
            " 'Leah Russell' 'Laurie Warner' 'Darin Carr' 'Carmen Spencer'\n",
            " 'Jeffery Underwood' 'Bradley Lamb' 'Amy Roberson' 'Maria Hansen'\n",
            " 'Leigh Morgan' 'Krystal Luna' 'Ginger Hudson' 'Angelica Berry'\n",
            " 'Kristy Torres' 'Faith Fuller' 'Joann Lane' 'Reginald Carroll'\n",
            " 'Amanda Boyd' 'Katrina Hill' 'Wade Rose' 'Shaun Vasquez'\n",
            " 'Marianne Estrada' 'Jacqueline Guerrero' 'Eunice Clayton' 'Katie Parker'\n",
            " 'Rosie Rodgers' 'Sophie Rodriguez' 'Byron Strickland' 'Geraldine Pena'\n",
            " 'Elsa Armstrong' 'Stanley Drake' 'Edna Knight' 'Loren Salazar'\n",
            " 'Sally Massey' 'Andre Dixon' 'Andrew Patton' 'Derrick Jordan'\n",
            " 'Lisa Mckinney' 'Hubert Neal' 'Thomas Dawson' 'Shari Allen' 'Drew Turner'\n",
            " 'Sadie Alvarez' 'Brandy Reid' 'Brenda Sanders' 'Gwendolyn George'\n",
            " 'Irvin Walters' 'Maureen Stanley' 'Tyrone Waters' 'Pat Watts'\n",
            " 'Heidi Bowers' 'Jason Wallace' 'Kerry Maxwell' 'Tyler King'\n",
            " 'Violet Kelly' 'Mario Harris' 'Kyle Price' 'Jody Bowman' 'Meghan Collier'\n",
            " 'Debra Greene' 'Derek Woods' 'Kari Perry' 'Eloise Wilkerson'\n",
            " 'Delores Goodman' 'Lynn Wheeler' 'Charlie Fitzgerald' 'Victor Wilson'\n",
            " 'Hector Sherman' 'Esther Wise' 'Ethel Bryan' 'Rodney Hernandez'\n",
            " 'Molly French' 'Lucas Daniels' 'Theodore Rogers' 'Lynette Francis'\n",
            " 'Bradford Adkins' 'Rosemarie Thornton' 'Patsy Herrera' 'Roxanne Park'\n",
            " 'Thelma Day' 'Carlton Henry' 'Rogelio Shaw' 'Lewis Valdez'\n",
            " 'Randolph Wright' 'Erin Gutierrez' 'Doris Jennings' 'Felicia Sparks'\n",
            " 'Clint Rodriquez' 'Martha Page' 'Muriel Campbell' 'Gilbert Holland'\n",
            " 'Shelley Bryant' 'Dustin Casey' 'Harry Martin' 'Teri Taylor'\n",
            " 'Shannon Kelly' 'Willard Norton' 'Joann Lynch' 'Melanie Craig'\n",
            " 'Marilyn Little' 'Eula Owen' 'Herman Lindsey' 'Patti Hodges'\n",
            " 'Kathryn Peterson' 'Ella Boyd' 'Cheryl Crawford' 'Geoffrey Moody'\n",
            " 'Kevin Coleman' 'Melissa Horton' 'Keith Chambers' 'Wade Martinez'\n",
            " 'Antoinette Miller' 'Virgil Rose' 'Dominick Gibbs' 'Everett Schneider'\n",
            " 'Laurie Patterson' 'Angelica Ray' 'Elias Reyes' 'Jennie Garrett'\n",
            " 'Jose Lopez' 'Kari Wood' 'Karen Nunez' 'Christie Wilkins'\n",
            " 'Herbert Anderson' 'Julius Freeman' 'Mabel Gardner' 'Lynn Morrison'\n",
            " 'Blake Evans' 'Lonnie Baldwin' 'Jorge Ryan' 'Gilbert Doyle'\n",
            " 'Edward Guerrero' 'Nathaniel Webb' 'Robin Hernandez' 'Roderick Diaz'\n",
            " 'Roland Quinn' 'Jon Cruz' 'Priscilla Wise' 'Jeannette Miles'\n",
            " 'Wm Cummings' 'Susan Barnett' 'Lloyd Lamb' 'Wilson Cain' 'Rita Waters'\n",
            " 'Miranda Vargas' 'Clint Mendoza' 'William Hart' 'Candace Mann'\n",
            " 'Enrique Carter' 'Phil Stanley' 'Meghan Keller' 'Faith Fox'\n",
            " 'Fannie Floyd' 'Leland Mclaughlin' 'Trevor Mckenzie' 'Abel Rowe'\n",
            " 'Olive Walton' 'Dixie Caldwell' 'Cary Nelson' 'Garrett Daniels'\n",
            " 'Crystal Mitchell' 'Gerald Hudson' 'Aaron Oliver' 'Brad Hamilton'\n",
            " 'Lillian Soto' 'Cody Simon' 'Dexter Dean' 'Gayle Logan' 'Mike Holmes'\n",
            " 'Donna Cortez' 'Linda Bennett' 'Patrick Hale' 'Jan Tucker'\n",
            " 'Ignacio Becker' 'Todd Henderson' 'Bryan Briggs' 'Elmer Pratt'\n",
            " 'Gail Powers' 'Judith Walsh' 'Dale Knight' 'Santos Romero' 'Dave Beck'\n",
            " 'Lindsey Page' 'Micheal Sparks' 'Traci Townsend' 'Armando Farmer'\n",
            " 'Van Grant' 'Delia Curry' 'Daniel Newman' 'Irvin Daniel' 'Tyler Tyler'\n",
            " 'Conrad Rivera' 'Edwin Gonzales' 'Tamara Mcbride' 'Angel Clarke'\n",
            " 'Brittany Watts' 'Amy Elliott' 'Mamie Adams' 'Adam Gardner'\n",
            " 'Enrique Rodriguez' 'Lynda Black' 'Melvin Obrien' 'Latoya Barton'\n",
            " 'Juana Harmon' 'Devin Sutton' 'Curtis Allen' 'Paul Martin'\n",
            " 'Joanne Stevens' 'Craig Poole' 'Elvira Nash' 'Maggie Lloyd'\n",
            " 'Myra Alvarez' 'Angelica Summers' 'Melody Montgomery' 'Judy Peterson'\n",
            " 'Sandra Neal' 'Jacob Kelley' 'Jeanette Austin' 'Tyrone Stevenson'\n",
            " 'Homer Moss' 'Jason Burgess' 'Lester Palmer' 'Elaine Freeman'\n",
            " 'Erika Berry' 'Cornelius Joseph' 'Sonja Douglas' 'Sheila Rowe'\n",
            " 'Leona Owen' 'Harry Ferguson' 'Willie Hale' 'Carrie Cross' 'Margie Perez'\n",
            " 'Wilfred Howell' 'Wendy Kim' 'Cassandra Howard' 'Maxine Webb'\n",
            " 'Camille Carroll' 'Rita Henry' 'Ignacio Simmons' 'Deborah Santiago'\n",
            " 'Lorenzo Rhodes' 'Matthew Richardson' 'Gloria Guzman'\n",
            " 'Randall Cunningham' 'Rufus Todd' 'David Fowler' 'Ida Moran'\n",
            " 'Josefina Hodges' 'Joshua Roy' 'Salvador Reyes' 'Krista Hayes'\n",
            " 'Jack Holt' 'Jessica Mendez' 'Barbara Santos' 'Winifred Watson'\n",
            " 'Lorene Harris' 'Kim Haynes' 'Leslie Fitzgerald' 'Brooke Sanders'\n",
            " 'Verna Kennedy' 'Earl Fleming' 'Dean Burns' 'Candace Simon'\n",
            " 'Tammy Jacobs' 'Terrance Fisher' 'Daniel Ramos' 'Vivian Davis' 'Sean Lee'\n",
            " 'Tonya Moreno' 'Kenny Beck' 'Alton Carpenter' 'Roland Hoffman'\n",
            " 'Clark Silva' 'Raymond Bowen' 'Juanita Perkins' 'Glenn Morales'\n",
            " 'Erick Taylor' 'Ann Lynch' 'Johnny Jordan' 'Lula Bowers' 'Georgia Newton'\n",
            " 'Debbie Daniel' 'Beatrice Jones' 'Ryan Schwartz' 'Garrett Aguilar'\n",
            " 'Bonnie Williams' 'Randal Mann' 'Sheldon Warren' 'Sue Alexander'\n",
            " 'James Schneider' 'Jonathon Ray' 'Josephine Keller']\n"
          ]
        }
      ]
    },
    {
      "cell_type": "code",
      "source": [
        "# create subscription IDs\n",
        "# Initialization of an empty set to store generated subscription IDs\n",
        "unique_ids = set()\n",
        "\n",
        "# Generate unique subscription IDs\n",
        "while len(unique_ids) < num_subs:\n",
        "    # Generate a random subscription ID\n",
        "    subscription_ID = f'MV{np.random.randint(1, 1001):03}'\n",
        "    # Adds ID to the set\n",
        "    unique_ids.add(subscription_ID)\n",
        "\n",
        "# Converts the set to a list\n",
        "subscription_ID = list(unique_ids)\n",
        "print(subscription_ID)\n"
      ],
      "metadata": {
        "colab": {
          "base_uri": "https://localhost:8080/"
        },
        "id": "_sfvexk1QO3p",
        "outputId": "56601706-90c2-4b02-a34e-68bdafd3bc3c"
      },
      "execution_count": null,
      "outputs": [
        {
          "output_type": "stream",
          "name": "stdout",
          "text": [
            "['MV862', 'MV851', 'MV613', 'MV100', 'MV514', 'MV708', 'MV691', 'MV832', 'MV811', 'MV639', 'MV585', 'MV280', 'MV191', 'MV610', 'MV164', 'MV220', 'MV183', 'MV695', 'MV228', 'MV580', 'MV305', 'MV898', 'MV846', 'MV659', 'MV085', 'MV616', 'MV378', 'MV150', 'MV884', 'MV303', 'MV712', 'MV232', 'MV937', 'MV423', 'MV419', 'MV762', 'MV671', 'MV674', 'MV017', 'MV450', 'MV950', 'MV186', 'MV119', 'MV963', 'MV907', 'MV016', 'MV273', 'MV012', 'MV744', 'MV956', 'MV491', 'MV393', 'MV530', 'MV092', 'MV103', 'MV941', 'MV047', 'MV835', 'MV549', 'MV800', 'MV003', 'MV597', 'MV304', 'MV524', 'MV504', 'MV254', 'MV439', 'MV441', 'MV061', 'MV911', 'MV455', 'MV374', 'MV409', 'MV488', 'MV389', 'MV268', 'MV170', 'MV167', 'MV978', 'MV386', 'MV251', 'MV354', 'MV465', 'MV940', 'MV071', 'MV785', 'MV204', 'MV876', 'MV327', 'MV735', 'MV861', 'MV883', 'MV699', 'MV857', 'MV501', 'MV200', 'MV315', 'MV058', 'MV778', 'MV856', 'MV551', 'MV655', 'MV910', 'MV844', 'MV408', 'MV039', 'MV298', 'MV889', 'MV572', 'MV275', 'MV097', 'MV689', 'MV422', 'MV055', 'MV295', 'MV120', 'MV469', 'MV578', 'MV815', 'MV413', 'MV925', 'MV767', 'MV833', 'MV630', 'MV897', 'MV140', 'MV023', 'MV083', 'MV882', 'MV733', 'MV675', 'MV567', 'MV384', 'MV070', 'MV683', 'MV247', 'MV768', 'MV444', 'MV777', 'MV629', 'MV994', 'MV615', 'MV520', 'MV632', 'MV041', 'MV250', 'MV138', 'MV294', 'MV864', 'MV881', 'MV293', 'MV147', 'MV396', 'MV779', 'MV190', 'MV664', 'MV411', 'MV726', 'MV106', 'MV731', 'MV314', 'MV502', 'MV299', 'MV793', 'MV005', 'MV162', 'MV198', 'MV739', 'MV442', 'MV101', 'MV713', 'MV518', 'MV542', 'MV589', 'MV281', 'MV319', 'MV462', 'MV057', 'MV566', 'MV807', 'MV113', 'MV415', 'MV201', 'MV834', 'MV516', 'MV093', 'MV230', 'MV355', 'MV698', 'MV366', 'MV510', 'MV648', 'MV944', 'MV451', 'MV388', 'MV050', 'MV769', 'MV877', 'MV770', 'MV693', 'MV975', 'MV533', 'MV758', 'MV471', 'MV967', 'MV579', 'MV813', 'MV906', 'MV180', 'MV187', 'MV397', 'MV249', 'MV722', 'MV052', 'MV233', 'MV257', 'MV346', 'MV060', 'MV544', 'MV438', 'MV718', 'MV402', 'MV997', 'MV780', 'MV466', 'MV854', 'MV148', 'MV564', 'MV680', 'MV349', 'MV231', 'MV152', 'MV348', 'MV258', 'MV543', 'MV798', 'MV865', 'MV266', 'MV601', 'MV627', 'MV153', 'MV660', 'MV131', 'MV685', 'MV117', 'MV372', 'MV009', 'MV340', 'MV867', 'MV825', 'MV574', 'MV723', 'MV241', 'MV199', 'MV221', 'MV145', 'MV559', 'MV242', 'MV086', 'MV481', 'MV053', 'MV446', 'MV421', 'MV891', 'MV515', 'MV192', 'MV538', 'MV377', 'MV143', 'MV011', 'MV824', 'MV678', 'MV576', 'MV736', 'MV262', 'MV253', 'MV375', 'MV973', 'MV774', 'MV523', 'MV464', 'MV401', 'MV483', 'MV256', 'MV748', 'MV743', 'MV984', 'MV461', 'MV972', 'MV212', 'MV998', 'MV105', 'MV836', 'MV480', 'MV989', 'MV107', 'MV581', 'MV819', 'MV203', 'MV008', 'MV123', 'MV945', 'MV724', 'MV1000', 'MV235', 'MV443', 'MV562', 'MV921', 'MV357', 'MV307', 'MV933', 'MV611', 'MV985', 'MV290', 'MV006', 'MV420', 'MV369', 'MV196', 'MV725', 'MV062', 'MV068', 'MV775', 'MV707', 'MV558', 'MV104', 'MV452', 'MV894', 'MV792', 'MV030', 'MV154', 'MV982', 'MV915', 'MV903', 'MV697', 'MV489', 'MV178', 'MV028', 'MV820', 'MV264', 'MV385', 'MV801', 'MV797', 'MV356', 'MV805', 'MV860', 'MV918', 'MV048', 'MV595', 'MV472', 'MV426', 'MV024', 'MV330', 'MV124', 'MV040', 'MV274', 'MV570', 'MV398', 'MV791', 'MV163', 'MV673', 'MV169', 'MV968', 'MV728', 'MV135', 'MV880', 'MV996', 'MV913', 'MV020', 'MV102', 'MV645', 'MV217', 'MV316', 'MV002', 'MV261', 'MV313', 'MV626', 'MV714', 'MV334', 'MV687', 'MV976', 'MV638', 'MV928', 'MV990', 'MV966', 'MV719', 'MV210', 'MV948', 'MV620', 'MV436', 'MV608', 'MV365', 'MV742', 'MV001', 'MV424', 'MV383', 'MV449', 'MV474', 'MV301', 'MV870', 'MV822', 'MV754', 'MV702', 'MV226', 'MV732', 'MV457', 'MV431', 'MV953', 'MV306', 'MV790', 'MV339', 'MV216', 'MV924', 'MV663', 'MV067', 'MV056', 'MV122', 'MV099', 'MV072', 'MV091', 'MV323', 'MV044', 'MV287', 'MV351', 'MV512', 'MV927', 'MV308', 'MV116', 'MV904', 'MV289', 'MV513', 'MV526', 'MV759', 'MV486', 'MV594', 'MV605', 'MV582', 'MV586', 'MV325', 'MV974', 'MV960', 'MV511', 'MV949', 'MV799', 'MV939', 'MV764', 'MV766', 'MV029', 'MV328', 'MV320', 'MV649', 'MV037', 'MV447', 'MV729', 'MV404', 'MV414', 'MV696', 'MV036', 'MV826', 'MV922', 'MV219', 'MV211', 'MV795', 'MV669', 'MV417', 'MV505', 'MV095', 'MV686', 'MV603', 'MV370', 'MV550', 'MV548', 'MV494', 'MV534', 'MV368', 'MV129', 'MV750', 'MV806', 'MV592', 'MV577', 'MV914', 'MV286', 'MV403', 'MV490', 'MV222', 'MV033', 'MV371', 'MV970', 'MV679', 'MV267', 'MV300', 'MV709', 'MV073', 'MV026', 'MV321', 'MV623', 'MV987', 'MV539', 'MV959', 'MV269', 'MV207', 'MV335', 'MV784', 'MV205', 'MV527', 'MV284', 'MV850', 'MV013', 'MV331', 'MV084', 'MV509', 'MV115', 'MV179', 'MV239', 'MV535', 'MV025', 'MV688', 'MV720', 'MV568', 'MV270', 'MV829', 'MV644', 'MV392', 'MV995', 'MV935', 'MV130', 'MV667', 'MV546', 'MV588', 'MV134', 'MV965', 'MV487', 'MV991', 'MV847', 'MV571', 'MV635', 'MV624', 'MV324', 'MV646', 'MV755', 'MV034', 'MV951', 'MV322', 'MV433', 'MV633', 'MV932', 'MV410', 'MV209', 'MV606', 'MV681', 'MV361', 'MV808', 'MV705', 'MV317', 'MV902', 'MV223', 'MV604', 'MV619', 'MV406', 'MV243', 'MV565', 'MV158', 'MV234', 'MV373', 'MV555', 'MV947', 'MV168', 'MV554', 'MV855', 'MV817', 'MV938', 'MV545', 'MV435', 'MV189', 'MV789', 'MV405', 'MV387', 'MV485', 'MV453', 'MV869', 'MV852', 'MV765', 'MV752', 'MV706', 'MV337', 'MV382', 'MV827', 'MV614', 'MV399', 'MV088', 'MV642', 'MV872', 'MV917', 'MV528', 'MV943', 'MV878', 'MV045', 'MV552', 'MV500', 'MV936', 'MV391', 'MV177', 'MV218', 'MV730', 'MV318', 'MV010', 'MV395', 'MV353', 'MV895', 'MV076', 'MV823', 'MV090', 'MV746', 'MV818', 'MV704', 'MV893', 'MV684', 'MV672', 'MV988', 'MV065', 'MV255', 'MV622', 'MV776', 'MV593', 'MV133', 'MV379', 'MV682', 'MV434', 'MV508', 'MV641', 'MV690', 'MV828', 'MV181', 'MV240', 'MV802', 'MV979', 'MV783', 'MV919', 'MV185', 'MV786', 'MV407', 'MV734', 'MV292', 'MV794', 'MV569', 'MV332', 'MV740', 'MV845', 'MV503', 'MV454', 'MV540', 'MV964', 'MV448', 'MV993', 'MV583', 'MV711', 'MV098', 'MV475', 'MV868', 'MV326', 'MV727', 'MV631', 'MV416', 'MV049', 'MV360', 'MV499', 'MV432', 'MV912', 'MV202', 'MV749', 'MV840', 'MV715', 'MV087', 'MV252', 'MV637', 'MV363', 'MV657', 'MV236', 'MV213', 'MV110', 'MV926', 'MV329', 'MV848', 'MV901', 'MV843', 'MV277', 'MV781', 'MV430', 'MV873', 'MV609', 'MV066', 'MV761', 'MV171', 'MV628', 'MV400', 'MV336', 'MV905', 'MV816', 'MV962', 'MV425', 'MV096', 'MV080', 'MV297', 'MV064', 'MV237', 'MV031', 'MV118', 'MV853', 'MV492', 'MV149', 'MV427', 'MV144', 'MV051', 'MV839', 'MV986', 'MV142', 'MV146', 'MV536', 'MV271', 'MV788', 'MV309', 'MV931', 'MV621', 'MV537', 'MV971', 'MV942', 'MV276', 'MV014', 'MV662', 'MV342', 'MV541', 'MV517', 'MV112', 'MV157', 'MV390', 'MV159', 'MV215', 'MV920', 'MV059', 'MV531', 'MV871', 'MV225', 'MV245', 'MV238', 'MV259', 'MV260', 'MV916', 'MV900', 'MV063', 'MV350', 'MV703', 'MV089', 'MV079', 'MV772', 'MV737', 'MV676', 'MV081', 'MV440', 'MV470', 'MV658', 'MV015', 'MV018', 'MV459', 'MV109', 'MV338', 'MV381', 'MV934', 'MV738', 'MV556', 'MV484', 'MV782', 'MV108', 'MV156', 'MV716', 'MV478', 'MV285', 'MV165', 'MV477', 'MV341', 'MV394', 'MV841', 'MV640', 'MV265', 'MV651', 'MV380', 'MV859', 'MV560', 'MV666', 'MV930', 'MV760', 'MV875', 'MV643', 'MV004', 'MV311', 'MV476', 'MV038', 'MV208', 'MV302', 'MV193', 'MV463', 'MV700', 'MV111', 'MV224', 'MV127', 'MV244', 'MV174', 'MV288', 'MV019', 'MV858', 'MV888', 'MV456', 'MV364', 'MV909', 'MV751', 'MV352', 'MV694', 'MV460', 'MV532', 'MV625', 'MV359', 'MV495', 'MV482', 'MV899', 'MV493', 'MV279', 'MV082', 'MV587', 'MV151', 'MV428', 'MV519', 'MV831', 'MV283', 'MV282', 'MV069', 'MV094', 'MV310', 'MV809', 'MV753', 'MV584', 'MV969', 'MV717', 'MV874', 'MV547', 'MV074', 'MV188', 'MV803', 'MV618', 'MV745', 'MV075', 'MV126', 'MV176', 'MV756', 'MV437', 'MV296', 'MV333', 'MV908', 'MV412', 'MV612', 'MV771', 'MV054', 'MV358', 'MV496', 'MV992', 'MV929', 'MV035', 'MV721', 'MV429', 'MV863', 'MV027', 'MV214', 'MV763', 'MV043', 'MV227', 'MV575', 'MV160', 'MV661', 'MV557', 'MV804', 'MV194', 'MV796', 'MV741', 'MV890', 'MV458', 'MV647', 'MV896', 'MV077', 'MV607', 'MV866', 'MV042', 'MV312', 'MV182', 'MV506', 'MV710', 'MV957', 'MV195', 'MV032', 'MV172', 'MV114', 'MV497', 'MV892', 'MV787', 'MV161', 'MV263', 'MV636', 'MV141', 'MV445', 'MV139', 'MV137', 'MV634', 'MV670', 'MV473', 'MV923', 'MV665', 'MV507', 'MV602', 'MV653', 'MV563', 'MV206', 'MV022', 'MV573', 'MV248', 'MV842', 'MV810', 'MV479', 'MV125', 'MV980', 'MV522', 'MV591', 'MV362', 'MV849', 'MV229', 'MV166', 'MV468', 'MV830', 'MV814', 'MV837', 'MV600', 'MV136', 'MV132', 'MV701', 'MV246', 'MV467', 'MV128', 'MV197', 'MV291', 'MV958', 'MV590', 'MV367', 'MV656', 'MV598', 'MV529', 'MV498', 'MV879', 'MV977', 'MV155', 'MV184', 'MV747', 'MV344', 'MV521', 'MV650', 'MV692', 'MV561', 'MV983', 'MV954', 'MV668', 'MV272', 'MV999', 'MV376', 'MV553', 'MV418', 'MV652', 'MV596', 'MV955', 'MV654', 'MV021', 'MV821', 'MV887', 'MV525', 'MV347', 'MV981', 'MV617', 'MV078', 'MV121', 'MV343', 'MV886', 'MV677', 'MV007', 'MV175', 'MV757', 'MV961', 'MV278', 'MV952', 'MV946', 'MV173', 'MV812', 'MV599', 'MV885', 'MV838', 'MV046', 'MV345', 'MV773']\n"
          ]
        }
      ]
    },
    {
      "cell_type": "code",
      "source": [
        "\n",
        "# Ordinal data: Age groups\n",
        "np.random.seed(32)\n",
        "age_groups = ['18-25', '26-35', '36-45', '46-55', '56-65', '66+']\n",
        "age_group_data = np.random.choice(age_groups, num_subs, p=[0.1, 0.2, 0.3, 0.2, 0.1, 0.1])"
      ],
      "metadata": {
        "id": "JwzSc2DCQ_PN"
      },
      "execution_count": null,
      "outputs": []
    },
    {
      "cell_type": "code",
      "source": [
        "# Interval data: date of subscription\n",
        "np.random.seed(32)\n",
        "subscription_year = np.random.randint(2020, 2023, num_subs)\n",
        "subscription_month = np.random.randint(1, 13, num_subs)\n",
        "subscription_day = np.random.randint(1, 32, num_subs)\n",
        "subscription_date = [f'{subscription_year[i]}-{str(subscription_month[i]).zfill(2)}-'\n",
        "                     f'{str(subscription_day[i]).zfill(2)}' for i in range(num_subs)]"
      ],
      "metadata": {
        "id": "sh6kGweDRGnQ"
      },
      "execution_count": null,
      "outputs": []
    },
    {
      "cell_type": "code",
      "source": [
        "# Define subscription plans\n",
        "np.random.seed(32)\n",
        "subscription_plans = ['Basic', 'Standard', 'Premium']\n",
        "\n",
        "# create subscription plan values\n",
        "subscription_plan_data = np.random.choice(subscription_plans, num_subs)"
      ],
      "metadata": {
        "id": "dYAsS5AsXqdR"
      },
      "execution_count": null,
      "outputs": []
    },
    {
      "cell_type": "code",
      "source": [
        "\n",
        "# Ratio data: subscription price\n",
        "# Define price ranges for each subscription plan\n",
        "basic_price = (50)\n",
        "standard_price = (150)\n",
        "premium_price = (250)\n",
        "\n",
        "#  subscription plan data\n",
        "np.random.seed(32)\n",
        "subscription_plan_data = np.random.choice(subscription_plans, num_subs)\n",
        "\n",
        "# Assign prices based on subscription plan\n",
        "price_data = []\n",
        "for plan in subscription_plan_data:\n",
        "    if plan == 'Basic':\n",
        "        price = (basic_price)\n",
        "    elif plan == 'Standard':\n",
        "        price = (standard_price)\n",
        "    else:  # Premium\n",
        "        price = (premium_price)\n",
        "    price_data.append(price)"
      ],
      "metadata": {
        "id": "qucZ8qxGS9NG"
      },
      "execution_count": null,
      "outputs": []
    },
    {
      "cell_type": "code",
      "source": [
        "\n",
        "# create random values for Minutes_watched\n",
        "np.random.seed(32)\n",
        "Minutes_watched = []\n",
        "while len(Minutes_watched) < num_subs:\n",
        "    # Generate a random value\n",
        "    mins = np.random.randint(135, 150000)\n",
        "    # Append it to the list\n",
        "    Minutes_watched.append(mins)\n",
        "\n",
        "# Convert the list to a NumPy array\n",
        "Minutes_watched = np.array(Minutes_watched)"
      ],
      "metadata": {
        "id": "iTtKK0F3TEMx"
      },
      "execution_count": null,
      "outputs": []
    },
    {
      "cell_type": "code",
      "source": [
        "\n",
        "# Create DataFrame\n",
        "df = pd.DataFrame({\n",
        "    'subscription_ID': subscription_ID,\n",
        "    'full_names' : full_names,\n",
        "    'Age_Group': age_group_data,\n",
        "    'subscription_date': subscription_date,\n",
        "    'Subscription_Plan' : subscription_plan_data,\n",
        "    'subscription_Price': price_data,\n",
        "    'Minutes_watched': Minutes_watched\n",
        "})\n",
        "\n",
        "df.set_index('subscription_ID', inplace=True)\n",
        "\n",
        "print(df)"
      ],
      "metadata": {
        "colab": {
          "base_uri": "https://localhost:8080/"
        },
        "id": "O_RkzUE1wJHB",
        "outputId": "b355d1da-8c78-4b61-986c-a364def2bc78"
      },
      "execution_count": null,
      "outputs": [
        {
          "output_type": "stream",
          "name": "stdout",
          "text": [
            "                       full_names Age_Group subscription_date  \\\n",
            "subscription_ID                                                 \n",
            "MV862            Maurice Mitchell     56-65        2021-08-07   \n",
            "MV851            Sonja Williamson     36-45        2022-02-15   \n",
            "MV613                Frank Haynes     36-45        2020-08-05   \n",
            "MV100               Amanda Watson       66+        2022-02-25   \n",
            "MV514                  Patti Reid     46-55        2020-09-05   \n",
            "...                           ...       ...               ...   \n",
            "MV885              Sheldon Warren     26-35        2022-06-30   \n",
            "MV838               Sue Alexander     18-25        2021-01-08   \n",
            "MV046             James Schneider     36-45        2021-08-15   \n",
            "MV345                Jonathon Ray     36-45        2022-04-07   \n",
            "MV773            Josephine Keller       66+        2020-10-17   \n",
            "\n",
            "                Subscription_Plan  subscription_Price  Minutes_watched  \n",
            "subscription_ID                                                         \n",
            "MV862                    Standard                 150            11102  \n",
            "MV851                     Premium                 250           108210  \n",
            "MV613                       Basic                  50           131084  \n",
            "MV100                     Premium                 250            75197  \n",
            "MV514                       Basic                  50            60419  \n",
            "...                           ...                 ...              ...  \n",
            "MV885                     Premium                 250            36229  \n",
            "MV838                    Standard                 150              768  \n",
            "MV046                    Standard                 150           149471  \n",
            "MV345                     Premium                 250            76175  \n",
            "MV773                       Basic                  50            43031  \n",
            "\n",
            "[1000 rows x 6 columns]\n"
          ]
        }
      ]
    },
    {
      "cell_type": "code",
      "source": [
        "df.info()"
      ],
      "metadata": {
        "colab": {
          "base_uri": "https://localhost:8080/"
        },
        "id": "4sQXDfUiXprL",
        "outputId": "69f97fde-83f1-4c72-d010-cf72cdec44b3"
      },
      "execution_count": null,
      "outputs": [
        {
          "output_type": "stream",
          "name": "stdout",
          "text": [
            "<class 'pandas.core.frame.DataFrame'>\n",
            "Index: 1000 entries, MV031 to MV915\n",
            "Data columns (total 6 columns):\n",
            " #   Column              Non-Null Count  Dtype \n",
            "---  ------              --------------  ----- \n",
            " 0   full_names          1000 non-null   object\n",
            " 1   Age_Group           1000 non-null   object\n",
            " 2   subscription_date   1000 non-null   object\n",
            " 3   Subscription_Plan   1000 non-null   object\n",
            " 4   subscription_Price  1000 non-null   int64 \n",
            " 5   Minutes_watched     1000 non-null   int64 \n",
            "dtypes: int64(2), object(4)\n",
            "memory usage: 54.7+ KB\n"
          ]
        }
      ]
    },
    {
      "cell_type": "markdown",
      "source": [],
      "metadata": {
        "id": "Py-DrddL1fkc"
      }
    },
    {
      "cell_type": "code",
      "source": [
        "df.to_csv('subs_data.csv')\n",
        "df[['full_names','Age_Group']].to_csv('sub_category.csv')\n",
        "df[['Subscription_Plan','subscription_Price']].to_csv('sub_package.csv')\n",
        "df[['subscription_date']].to_csv('sub_date.csv')\n",
        "df[['Minutes_watched']].to_csv('mins_watched.csv')"
      ],
      "metadata": {
        "id": "kfVlfzLukr58"
      },
      "execution_count": null,
      "outputs": []
    },
    {
      "cell_type": "code",
      "source": [
        "# Check for duplicated subscription IDs in the index\n",
        "duplicated_ids = df[df.full_names.duplicated()]\n",
        "\n",
        "# Print out the duplicated subscription IDs\n",
        "if not duplicated_ids.empty:\n",
        "    print(\"Duplicate subscription IDs:\")\n",
        "    print(duplicated_ids.full_names)\n",
        "else:\n",
        "    print(\"No duplicate subscription IDs found.\")\n"
      ],
      "metadata": {
        "colab": {
          "base_uri": "https://localhost:8080/"
        },
        "id": "ITU8uhG15Hle",
        "outputId": "d63375d4-556e-4ed1-974c-1766b9aaed97"
      },
      "execution_count": null,
      "outputs": [
        {
          "output_type": "stream",
          "name": "stdout",
          "text": [
            "No duplicate subscription IDs found.\n"
          ]
        }
      ]
    }
  ]
}
